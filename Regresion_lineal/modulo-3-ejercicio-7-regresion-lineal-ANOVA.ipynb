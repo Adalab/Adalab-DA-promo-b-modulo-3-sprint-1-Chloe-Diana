{
 "cells": [
  {
   "cell_type": "markdown",
   "metadata": {},
   "source": [
    "# Pair Programming ANOVA"
   ]
  },
  {
   "cell_type": "markdown",
   "metadata": {},
   "source": [
    "`En el pair programming de hoy usaremos el set de datos que guardastéis en el pair programming de normalización y estandarización.`\n",
    "\n",
    "Hasta ahora habéis estado evaluando las características de vuestro set de datos y habéis hecho una gran exploración, es el momento de hacer vuestro primer ANOVA! En el ejercicio de hoy tendréis que hacer un ANOVA con vuestro datos y hacer una interpretación de los resultados.\n",
    "\n",
    "📌 NOTA Puede que vuestros datos no se ajusten o no cumplan todas las asunciones, no pasa nada, haced el ANOVA e interpretad los resultados. En próximas lecciones aprenderemos que podemos hacer cuando nos encontramos en esta situación.\n",
    "\n"
   ]
  },
  {
   "cell_type": "code",
   "execution_count": 1,
   "metadata": {},
   "outputs": [],
   "source": [
    "import pandas as pd\n",
    "import numpy as np\n",
    "import seaborn as sns\n",
    "import matplotlib.pyplot as plt\n",
    "\n",
    "import statsmodels.api as sm\n",
    "from statsmodels.formula.api import ols\n",
    "from statsmodels.multivariate.manova import MANOVA\n",
    "from sklearn.preprocessing import StandardScaler\n",
    "\n",
    "plt.rcParams[\"figure.figsize\"] = (10,8) "
   ]
  },
  {
   "cell_type": "code",
   "execution_count": 2,
   "metadata": {},
   "outputs": [
    {
     "data": {
      "text/html": [
       "<div>\n",
       "<style scoped>\n",
       "    .dataframe tbody tr th:only-of-type {\n",
       "        vertical-align: middle;\n",
       "    }\n",
       "\n",
       "    .dataframe tbody tr th {\n",
       "        vertical-align: top;\n",
       "    }\n",
       "\n",
       "    .dataframe thead th {\n",
       "        text-align: right;\n",
       "    }\n",
       "</style>\n",
       "<table border=\"1\" class=\"dataframe\">\n",
       "  <thead>\n",
       "    <tr style=\"text-align: right;\">\n",
       "      <th></th>\n",
       "      <th>id</th>\n",
       "      <th>year_birth</th>\n",
       "      <th>education</th>\n",
       "      <th>marital_status</th>\n",
       "      <th>income</th>\n",
       "      <th>kidhome</th>\n",
       "      <th>teenhome</th>\n",
       "      <th>dt_customer</th>\n",
       "      <th>recency</th>\n",
       "      <th>mntwines</th>\n",
       "      <th>...</th>\n",
       "      <th>mntgoldprods</th>\n",
       "      <th>numdealspurchases</th>\n",
       "      <th>numwebpurchases</th>\n",
       "      <th>numcatalogpurchases</th>\n",
       "      <th>numstorepurchases</th>\n",
       "      <th>numwebvisitsmonth</th>\n",
       "      <th>mnt_total</th>\n",
       "      <th>mnt_total_sin_vino</th>\n",
       "      <th>mntwines_sin_cero</th>\n",
       "      <th>mnt_wines_box</th>\n",
       "    </tr>\n",
       "  </thead>\n",
       "  <tbody>\n",
       "    <tr>\n",
       "      <th>0</th>\n",
       "      <td>5524</td>\n",
       "      <td>1957</td>\n",
       "      <td>Graduation</td>\n",
       "      <td>Single</td>\n",
       "      <td>0.234063</td>\n",
       "      <td>0</td>\n",
       "      <td>0</td>\n",
       "      <td>04-09-2012</td>\n",
       "      <td>0.307039</td>\n",
       "      <td>635</td>\n",
       "      <td>...</td>\n",
       "      <td>0.843207</td>\n",
       "      <td>0.349414</td>\n",
       "      <td>1.409304</td>\n",
       "      <td>2.51089</td>\n",
       "      <td>-0.550785</td>\n",
       "      <td>0.693904</td>\n",
       "      <td>1617</td>\n",
       "      <td>2.011116</td>\n",
       "      <td>635.0</td>\n",
       "      <td>14.026740</td>\n",
       "    </tr>\n",
       "    <tr>\n",
       "      <th>1</th>\n",
       "      <td>2174</td>\n",
       "      <td>1954</td>\n",
       "      <td>Graduation</td>\n",
       "      <td>Single</td>\n",
       "      <td>-0.234559</td>\n",
       "      <td>1</td>\n",
       "      <td>1</td>\n",
       "      <td>08-03-2014</td>\n",
       "      <td>-0.383664</td>\n",
       "      <td>11</td>\n",
       "      <td>...</td>\n",
       "      <td>-0.729006</td>\n",
       "      <td>-0.168236</td>\n",
       "      <td>-1.110409</td>\n",
       "      <td>-0.56872</td>\n",
       "      <td>-1.166125</td>\n",
       "      <td>-0.130463</td>\n",
       "      <td>27</td>\n",
       "      <td>-0.845274</td>\n",
       "      <td>11.0</td>\n",
       "      <td>3.141178</td>\n",
       "    </tr>\n",
       "  </tbody>\n",
       "</table>\n",
       "<p>2 rows × 24 columns</p>\n",
       "</div>"
      ],
      "text/plain": [
       "     id  year_birth   education marital_status    income  kidhome  teenhome  \\\n",
       "0  5524        1957  Graduation         Single  0.234063        0         0   \n",
       "1  2174        1954  Graduation         Single -0.234559        1         1   \n",
       "\n",
       "  dt_customer   recency  mntwines  ...  mntgoldprods  numdealspurchases  \\\n",
       "0  04-09-2012  0.307039       635  ...      0.843207           0.349414   \n",
       "1  08-03-2014 -0.383664        11  ...     -0.729006          -0.168236   \n",
       "\n",
       "   numwebpurchases  numcatalogpurchases  numstorepurchases  numwebvisitsmonth  \\\n",
       "0         1.409304              2.51089          -0.550785           0.693904   \n",
       "1        -1.110409             -0.56872          -1.166125          -0.130463   \n",
       "\n",
       "   mnt_total  mnt_total_sin_vino  mntwines_sin_cero  mnt_wines_box  \n",
       "0       1617            2.011116              635.0      14.026740  \n",
       "1         27           -0.845274               11.0       3.141178  \n",
       "\n",
       "[2 rows x 24 columns]"
      ]
     },
     "execution_count": 2,
     "metadata": {},
     "output_type": "execute_result"
    }
   ],
   "source": [
    "df = pd.read_csv('../Datos/vinos_norm_estandar.csv', index_col = 0)\n",
    "df.head(2)"
   ]
  },
  {
   "cell_type": "markdown",
   "metadata": {},
   "source": [
    "> Recordamos en la comprobación que hicimos de las asunciones para el ANOVA que:\n",
    "> * No logramos alcanzar la normalidad de la variable respuesta\n",
    "> * Varias de nuestras variables predictoras son dependientes entre sí\n",
    "> * Solo la variable education es homocedástica en relación "
   ]
  },
  {
   "cell_type": "code",
   "execution_count": null,
   "metadata": {},
   "outputs": [],
   "source": []
  }
 ],
 "metadata": {
  "kernelspec": {
   "display_name": "Python 3.9.7 ('base')",
   "language": "python",
   "name": "python3"
  },
  "language_info": {
   "codemirror_mode": {
    "name": "ipython",
    "version": 3
   },
   "file_extension": ".py",
   "mimetype": "text/x-python",
   "name": "python",
   "nbconvert_exporter": "python",
   "pygments_lexer": "ipython3",
   "version": "3.9.7"
  },
  "orig_nbformat": 4,
  "vscode": {
   "interpreter": {
    "hash": "6be5d780ee9b0e6fe20ff9090f4981b24f52f07297829e94136e87c5137905e3"
   }
  }
 },
 "nbformat": 4,
 "nbformat_minor": 2
}
