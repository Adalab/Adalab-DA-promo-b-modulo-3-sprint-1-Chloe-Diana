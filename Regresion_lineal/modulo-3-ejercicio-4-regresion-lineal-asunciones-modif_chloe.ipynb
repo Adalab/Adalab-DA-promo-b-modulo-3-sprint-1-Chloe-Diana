{
 "cells": [
  {
   "cell_type": "markdown",
   "metadata": {},
   "source": [
    "# Asunciones Regresión Lineal"
   ]
  },
  {
   "cell_type": "code",
   "execution_count": 2,
   "metadata": {},
   "outputs": [],
   "source": [
    "import numpy as np\n",
    "import pandas as pd\n",
    "import seaborn as sns\n",
    "import matplotlib.pyplot as plt\n",
    "from scipy import stats\n",
    "import researchpy as rp\n",
    "import scipy.stats as stats\n",
    "from scipy.stats import levene\n",
    "\n",
    "plt.rcParams[\"figure.figsize\"] = (10,8) \n",
    "\n",
    "pd.options.display.max_columns=None\n",
    "pd.options.display.float_format = '{:.2f}'.format \n",
    "np.set_printoptions(suppress=True)"
   ]
  },
  {
   "cell_type": "code",
   "execution_count": 3,
   "metadata": {},
   "outputs": [
    {
     "data": {
      "text/html": [
       "<div>\n",
       "<style scoped>\n",
       "    .dataframe tbody tr th:only-of-type {\n",
       "        vertical-align: middle;\n",
       "    }\n",
       "\n",
       "    .dataframe tbody tr th {\n",
       "        vertical-align: top;\n",
       "    }\n",
       "\n",
       "    .dataframe thead th {\n",
       "        text-align: right;\n",
       "    }\n",
       "</style>\n",
       "<table border=\"1\" class=\"dataframe\">\n",
       "  <thead>\n",
       "    <tr style=\"text-align: right;\">\n",
       "      <th></th>\n",
       "      <th>id</th>\n",
       "      <th>year_birth</th>\n",
       "      <th>education</th>\n",
       "      <th>marital_status</th>\n",
       "      <th>income</th>\n",
       "      <th>kidhome</th>\n",
       "      <th>teenhome</th>\n",
       "      <th>dt_customer</th>\n",
       "      <th>recency</th>\n",
       "      <th>mntwines</th>\n",
       "      <th>mntfruits</th>\n",
       "      <th>mntmeatproducts</th>\n",
       "      <th>mntfishproducts</th>\n",
       "      <th>mntsweetproducts</th>\n",
       "      <th>mntgoldprods</th>\n",
       "      <th>numdealspurchases</th>\n",
       "      <th>numwebpurchases</th>\n",
       "      <th>numcatalogpurchases</th>\n",
       "      <th>numstorepurchases</th>\n",
       "      <th>numwebvisitsmonth</th>\n",
       "      <th>acceptedcmp3</th>\n",
       "      <th>acceptedcmp4</th>\n",
       "      <th>acceptedcmp5</th>\n",
       "      <th>acceptedcmp1</th>\n",
       "      <th>acceptedcmp2</th>\n",
       "      <th>complain</th>\n",
       "      <th>response</th>\n",
       "      <th>mnt_total</th>\n",
       "      <th>mnt_total_sin_vino</th>\n",
       "    </tr>\n",
       "  </thead>\n",
       "  <tbody>\n",
       "    <tr>\n",
       "      <th>0</th>\n",
       "      <td>5524</td>\n",
       "      <td>1957</td>\n",
       "      <td>Graduation</td>\n",
       "      <td>Single</td>\n",
       "      <td>58138.00</td>\n",
       "      <td>0</td>\n",
       "      <td>0</td>\n",
       "      <td>04-09-2012</td>\n",
       "      <td>58</td>\n",
       "      <td>635</td>\n",
       "      <td>88</td>\n",
       "      <td>546</td>\n",
       "      <td>172</td>\n",
       "      <td>88</td>\n",
       "      <td>88</td>\n",
       "      <td>3</td>\n",
       "      <td>8</td>\n",
       "      <td>10</td>\n",
       "      <td>4</td>\n",
       "      <td>7</td>\n",
       "      <td>0</td>\n",
       "      <td>0</td>\n",
       "      <td>0</td>\n",
       "      <td>0</td>\n",
       "      <td>0</td>\n",
       "      <td>0</td>\n",
       "      <td>1</td>\n",
       "      <td>1617</td>\n",
       "      <td>982</td>\n",
       "    </tr>\n",
       "    <tr>\n",
       "      <th>1</th>\n",
       "      <td>2174</td>\n",
       "      <td>1954</td>\n",
       "      <td>Graduation</td>\n",
       "      <td>Single</td>\n",
       "      <td>46344.00</td>\n",
       "      <td>1</td>\n",
       "      <td>1</td>\n",
       "      <td>08-03-2014</td>\n",
       "      <td>38</td>\n",
       "      <td>11</td>\n",
       "      <td>1</td>\n",
       "      <td>6</td>\n",
       "      <td>2</td>\n",
       "      <td>1</td>\n",
       "      <td>6</td>\n",
       "      <td>2</td>\n",
       "      <td>1</td>\n",
       "      <td>1</td>\n",
       "      <td>2</td>\n",
       "      <td>5</td>\n",
       "      <td>0</td>\n",
       "      <td>0</td>\n",
       "      <td>0</td>\n",
       "      <td>0</td>\n",
       "      <td>0</td>\n",
       "      <td>0</td>\n",
       "      <td>0</td>\n",
       "      <td>27</td>\n",
       "      <td>16</td>\n",
       "    </tr>\n",
       "  </tbody>\n",
       "</table>\n",
       "</div>"
      ],
      "text/plain": [
       "     id  year_birth   education marital_status   income  kidhome  teenhome  \\\n",
       "0  5524        1957  Graduation         Single 58138.00        0         0   \n",
       "1  2174        1954  Graduation         Single 46344.00        1         1   \n",
       "\n",
       "  dt_customer  recency  mntwines  mntfruits  mntmeatproducts  mntfishproducts  \\\n",
       "0  04-09-2012       58       635         88              546              172   \n",
       "1  08-03-2014       38        11          1                6                2   \n",
       "\n",
       "   mntsweetproducts  mntgoldprods  numdealspurchases  numwebpurchases  \\\n",
       "0                88            88                  3                8   \n",
       "1                 1             6                  2                1   \n",
       "\n",
       "   numcatalogpurchases  numstorepurchases  numwebvisitsmonth  acceptedcmp3  \\\n",
       "0                   10                  4                  7             0   \n",
       "1                    1                  2                  5             0   \n",
       "\n",
       "   acceptedcmp4  acceptedcmp5  acceptedcmp1  acceptedcmp2  complain  response  \\\n",
       "0             0             0             0             0         0         1   \n",
       "1             0             0             0             0         0         0   \n",
       "\n",
       "   mnt_total  mnt_total_sin_vino  \n",
       "0       1617                 982  \n",
       "1         27                  16  "
      ]
     },
     "execution_count": 3,
     "metadata": {},
     "output_type": "execute_result"
    }
   ],
   "source": [
    "df = pd.read_csv('../Datos/EDA_vinos.csv', index_col = 0)\n",
    "df.head(2)"
   ]
  },
  {
   "cell_type": "markdown",
   "metadata": {},
   "source": [
    "`En este módulo aprenderemos qué es un ANOVA y qué asunciones deben cumplirse para hacer un análisis de este tipo.`\n",
    "\n",
    "Sin embargo, no nos podemos poner a hacer nuestras operaciones a lo loco. Antes de hacer nada, tenemos que comprobar una serie de asunciones. ¿Cuáles son?\n",
    "* Los datos deben ser normales -> test de normalidad\n"
   ]
  },
  {
   "cell_type": "code",
   "execution_count": 4,
   "metadata": {},
   "outputs": [],
   "source": [
    "# La comprobación de la normalidad la haremos sobre la variable que nos resulta interesante: 'mntwines' (quizás más adelante hagamos el análisis con 'mntmeatproducts')"
   ]
  },
  {
   "cell_type": "code",
   "execution_count": 5,
   "metadata": {},
   "outputs": [
    {
     "data": {
      "image/png": "[encoded data removed]",
      "text/plain": [
       "<Figure size 720x576 with 1 Axes>"
      ]
     },
     "metadata": {
      "needs_background": "light"
     },
     "output_type": "display_data"
    }
   ],
   "source": [
    "# Empezamos a analizarlo visualmente\n",
    "sns.histplot(df['mntwines']);"
   ]
  },
  {
   "cell_type": "code",
   "execution_count": 6,
   "metadata": {},
   "outputs": [
    {
     "data": {
      "text/plain": [
       "(2240, 29)"
      ]
     },
     "execution_count": 6,
     "metadata": {},
     "output_type": "execute_result"
    }
   ],
   "source": [
    "# Comprobamos el tamaño de nuestro df. Si no supera los 5000 registros, usaremos el test de shapiro.\n",
    "df.shape"
   ]
  },
  {
   "cell_type": "code",
   "execution_count": 7,
   "metadata": {},
   "outputs": [
    {
     "data": {
      "text/plain": [
       "ShapiroResult(statistic=0.8381438255310059, pvalue=5.7032847498020055e-43)"
      ]
     },
     "execution_count": 7,
     "metadata": {},
     "output_type": "execute_result"
    }
   ],
   "source": [
    "# Aunque de forma visual interpretamos claramente que no tenemos una distribución normal, hacemos el test de shapiro para comprobar la normalidad\n",
    "stats.shapiro(df['mntwines'])"
   ]
  },
  {
   "cell_type": "markdown",
   "metadata": {},
   "source": [
    "> Nuestro p valor es menor a 0.05, por lo tanto rechazamos la hipótesis nula de que nuestra variable tiene una distribución normal"
   ]
  },
  {
   "cell_type": "markdown",
   "metadata": {},
   "source": [
    "* Las variables deben ser independientes -> correlación\n"
   ]
  },
  {
   "cell_type": "markdown",
   "metadata": {},
   "source": [
    "`Vamos a comprobar que nuestras variables predictoras son independientes.`\n",
    "\n",
    "`Como ya hemos hecho un heatmap, vamos a comprobar la independencia de forma analítica con un crosstab de chi cuadrado`"
   ]
  },
  {
   "cell_type": "code",
   "execution_count": 8,
   "metadata": {},
   "outputs": [
    {
     "data": {
      "text/plain": [
       "Index(['id', 'year_birth', 'education', 'marital_status', 'income', 'kidhome',\n",
       "       'teenhome', 'dt_customer', 'recency', 'mntwines', 'mntfruits',\n",
       "       'mntmeatproducts', 'mntfishproducts', 'mntsweetproducts',\n",
       "       'mntgoldprods', 'numdealspurchases', 'numwebpurchases',\n",
       "       'numcatalogpurchases', 'numstorepurchases', 'numwebvisitsmonth',\n",
       "       'acceptedcmp3', 'acceptedcmp4', 'acceptedcmp5', 'acceptedcmp1',\n",
       "       'acceptedcmp2', 'complain', 'response', 'mnt_total',\n",
       "       'mnt_total_sin_vino'],\n",
       "      dtype='object')"
      ]
     },
     "execution_count": 8,
     "metadata": {},
     "output_type": "execute_result"
    }
   ],
   "source": [
    "# Sacamos una selección de columnas para analizar la independencia entre ellas\n",
    "df.columns"
   ]
  },
  {
   "cell_type": "code",
   "execution_count": 9,
   "metadata": {},
   "outputs": [],
   "source": [
    "lista_columnas = ['year_birth', 'education', 'marital_status', 'income', 'kidhome',\n",
    "                  'teenhome', 'mntfishproducts']"
   ]
  },
  {
   "cell_type": "code",
   "execution_count": 10,
   "metadata": {},
   "outputs": [
    {
     "name": "stdout",
     "output_type": "stream",
     "text": [
      "education ... year_birth\n",
      "marital_status ... year_birth\n",
      "marital_status ... education\n",
      "income ... year_birth\n",
      "income ... education\n",
      "income ... marital_status\n",
      "kidhome ... year_birth\n",
      "kidhome ... education\n",
      "kidhome ... marital_status\n",
      "kidhome ... income\n",
      "teenhome ... year_birth\n",
      "teenhome ... education\n",
      "teenhome ... marital_status\n",
      "teenhome ... income\n",
      "teenhome ... kidhome\n",
      "mntfishproducts ... year_birth\n",
      "mntfishproducts ... education\n",
      "mntfishproducts ... marital_status\n",
      "mntfishproducts ... income\n",
      "mntfishproducts ... kidhome\n",
      "mntfishproducts ... teenhome\n"
     ]
    }
   ],
   "source": [
    "# Generamos un for loop que vaya comparando por pares y que elimine duplicados\n",
    "for i in lista_columnas:\n",
    "    repes=[]\n",
    "    for j in lista_columnas:\n",
    "        if i != j:\n",
    "            if i not in repes:\n",
    "                print(i, '...', j)\n",
    "\n",
    "        repes.append(j)   "
   ]
  },
  {
   "cell_type": "code",
   "execution_count": 11,
   "metadata": {},
   "outputs": [],
   "source": [
    "# Hacemos una prueba de chi cuadrado para ver qué resultados nos interesa extraer para todas las combinaciones\n",
    "crosstab, test_results, expected = rp.crosstab(df['year_birth'], df['education'],\n",
    "                                               test= \"chi-square\",\n",
    "                                               expected_freqs= True,\n",
    "                                               prop= \"cell\")"
   ]
  },
  {
   "cell_type": "code",
   "execution_count": 12,
   "metadata": {},
   "outputs": [
    {
     "data": {
      "text/html": [
       "<div>\n",
       "<style scoped>\n",
       "    .dataframe tbody tr th:only-of-type {\n",
       "        vertical-align: middle;\n",
       "    }\n",
       "\n",
       "    .dataframe tbody tr th {\n",
       "        vertical-align: top;\n",
       "    }\n",
       "\n",
       "    .dataframe thead th {\n",
       "        text-align: right;\n",
       "    }\n",
       "</style>\n",
       "<table border=\"1\" class=\"dataframe\">\n",
       "  <thead>\n",
       "    <tr style=\"text-align: right;\">\n",
       "      <th></th>\n",
       "      <th>Chi-square test</th>\n",
       "      <th>results</th>\n",
       "    </tr>\n",
       "  </thead>\n",
       "  <tbody>\n",
       "    <tr>\n",
       "      <th>0</th>\n",
       "      <td>Pearson Chi-square ( 232.0) =</td>\n",
       "      <td>428.14</td>\n",
       "    </tr>\n",
       "    <tr>\n",
       "      <th>1</th>\n",
       "      <td>p-value =</td>\n",
       "      <td>0.00</td>\n",
       "    </tr>\n",
       "    <tr>\n",
       "      <th>2</th>\n",
       "      <td>Cramer's V =</td>\n",
       "      <td>0.22</td>\n",
       "    </tr>\n",
       "  </tbody>\n",
       "</table>\n",
       "</div>"
      ],
      "text/plain": [
       "                  Chi-square test  results\n",
       "0  Pearson Chi-square ( 232.0) =    428.14\n",
       "1                      p-value =      0.00\n",
       "2                   Cramer's V =      0.22"
      ]
     },
     "execution_count": 12,
     "metadata": {},
     "output_type": "execute_result"
    }
   ],
   "source": [
    "test_results"
   ]
  },
  {
   "cell_type": "code",
   "execution_count": 13,
   "metadata": {},
   "outputs": [
    {
     "data": {
      "text/plain": [
       "0.0"
      ]
     },
     "execution_count": 13,
     "metadata": {},
     "output_type": "execute_result"
    }
   ],
   "source": [
    "# Como solo nos interesa el p_valor, extraemos ese valor con un iloc\n",
    "test_results.iloc[1,1]"
   ]
  },
  {
   "cell_type": "code",
   "execution_count": 14,
   "metadata": {},
   "outputs": [
    {
     "name": "stdout",
     "output_type": "stream",
     "text": [
      "education --- year_birth --p_valor:  0.0\n",
      "marital_status --- year_birth --p_valor:  0.0\n",
      "marital_status --- education --p_valor:  0.5026\n",
      "income --- year_birth --p_valor:  0.0\n",
      "income --- education --p_valor:  0.0\n",
      "income --- marital_status --p_valor:  1.0\n",
      "kidhome --- year_birth --p_valor:  0.0\n",
      "kidhome --- education --p_valor:  0.0125\n",
      "kidhome --- marital_status --p_valor:  0.0935\n",
      "kidhome --- income --p_valor:  0.0\n",
      "teenhome --- year_birth --p_valor:  0.0\n",
      "teenhome --- education --p_valor:  0.0\n",
      "teenhome --- marital_status --p_valor:  0.0005\n",
      "teenhome --- income --p_valor:  0.0\n",
      "teenhome --- kidhome --p_valor:  0.0019\n",
      "mntfishproducts --- year_birth --p_valor:  0.0\n",
      "mntfishproducts --- education --p_valor:  0.0029\n",
      "mntfishproducts --- marital_status --p_valor:  0.0\n",
      "mntfishproducts --- income --p_valor:  0.0\n",
      "mntfishproducts --- kidhome --p_valor:  0.0\n",
      "mntfishproducts --- teenhome --p_valor:  0.0001\n"
     ]
    }
   ],
   "source": [
    "# Ejecutamos nuestro bucle for que nos irá calculando el test de chi cuadrado por pares de columnas\n",
    "for i in lista_columnas:\n",
    "    repes=[]\n",
    "    for j in lista_columnas:\n",
    "        if i != j:\n",
    "            if i not in repes:\n",
    "                crosstab, test_results, expected = rp.crosstab(df[i], df[j],\n",
    "                                               test= \"chi-square\",\n",
    "                                               expected_freqs= True,\n",
    "                                               prop= \"cell\")\n",
    "                print(i, '---', j,'--p_valor: ', test_results.iloc[1,1])\n",
    "        repes.append(j)   "
   ]
  },
  {
   "cell_type": "markdown",
   "metadata": {},
   "source": [
    ">Si sabemos que un p_valor > 0,05 indica que son independientes, sólo tres de nuestras relaciones entre variables son idependientes:\n",
    ">\n",
    ">* marital_status --- education\n",
    ">\n",
    ">* income --- marital_status\n",
    ">\n",
    ">* kidhome --- marital_status\n",
    "> \n",
    "> El resto de nuestras variables sí muestran dependencia según este test. Porque muchas veces las correlaciones no son causales, y lo iremos estudiando"
   ]
  },
  {
   "cell_type": "markdown",
   "metadata": {},
   "source": [
    "* Homogeneidad de las varianzas o heterocedasticidad -> test de heterocedasticidad\n"
   ]
  },
  {
   "cell_type": "markdown",
   "metadata": {},
   "source": [
    "`Vamos a testear la homocedasticidad entre nuestra variable respuesta y las que hemos seleccionado previamente`"
   ]
  },
  {
   "cell_type": "code",
   "execution_count": 15,
   "metadata": {},
   "outputs": [
    {
     "data": {
      "text/plain": [
       "year_birth           int64\n",
       "education           object\n",
       "marital_status      object\n",
       "income             float64\n",
       "kidhome              int64\n",
       "teenhome             int64\n",
       "mntfishproducts      int64\n",
       "dtype: object"
      ]
     },
     "execution_count": 15,
     "metadata": {},
     "output_type": "execute_result"
    }
   ],
   "source": [
    "\n",
    "# Veamos cuales son numéricas y cuales categóricas y las separamos en dos dataframes\n",
    "df_sel = df[lista_columnas]\n",
    "df_sel.dtypes"
   ]
  },
  {
   "cell_type": "code",
   "execution_count": 16,
   "metadata": {},
   "outputs": [
    {
     "name": "stderr",
     "output_type": "stream",
     "text": [
      "/tmp/ipykernel_1556/2562338320.py:2: SettingWithCopyWarning: \n",
      "A value is trying to be set on a copy of a slice from a DataFrame.\n",
      "Try using .loc[row_indexer,col_indexer] = value instead\n",
      "\n",
      "See the caveats in the documentation: https://pandas.pydata.org/pandas-docs/stable/user_guide/indexing.html#returning-a-view-versus-a-copy\n",
      "  df_sel['mntwines'] = df['mntwines']\n"
     ]
    }
   ],
   "source": [
    "# Añadimos nuestra columna respuesta al df_sel para poder comparar la homocedasticidad con el resto de las variables\n",
    "df_sel['mntwines'] = df['mntwines']"
   ]
  },
  {
   "cell_type": "code",
   "execution_count": 17,
   "metadata": {},
   "outputs": [
    {
     "data": {
      "text/html": [
       "<div>\n",
       "<style scoped>\n",
       "    .dataframe tbody tr th:only-of-type {\n",
       "        vertical-align: middle;\n",
       "    }\n",
       "\n",
       "    .dataframe tbody tr th {\n",
       "        vertical-align: top;\n",
       "    }\n",
       "\n",
       "    .dataframe thead th {\n",
       "        text-align: right;\n",
       "    }\n",
       "</style>\n",
       "<table border=\"1\" class=\"dataframe\">\n",
       "  <thead>\n",
       "    <tr style=\"text-align: right;\">\n",
       "      <th></th>\n",
       "      <th>education</th>\n",
       "      <th>marital_status</th>\n",
       "    </tr>\n",
       "  </thead>\n",
       "  <tbody>\n",
       "    <tr>\n",
       "      <th>0</th>\n",
       "      <td>Graduation</td>\n",
       "      <td>Single</td>\n",
       "    </tr>\n",
       "    <tr>\n",
       "      <th>1</th>\n",
       "      <td>Graduation</td>\n",
       "      <td>Single</td>\n",
       "    </tr>\n",
       "  </tbody>\n",
       "</table>\n",
       "</div>"
      ],
      "text/plain": [
       "    education marital_status\n",
       "0  Graduation         Single\n",
       "1  Graduation         Single"
      ]
     },
     "execution_count": 17,
     "metadata": {},
     "output_type": "execute_result"
    }
   ],
   "source": [
    "# Creamos un dataframe solo con las columnas categóricas\n",
    "categoricas = df_sel.select_dtypes(object)\n",
    "categoricas.head(2)"
   ]
  },
  {
   "cell_type": "markdown",
   "metadata": {},
   "source": [
    "`Primero lo haremos visualmente con nuestras columnas categóricas`"
   ]
  },
  {
   "cell_type": "code",
   "execution_count": 19,
   "metadata": {},
   "outputs": [
    {
     "data": {
      "text/plain": [
       "array(['Graduation', 'PhD', 'Master', 'Basic', '2n Cycle'], dtype=object)"
      ]
     },
     "execution_count": 19,
     "metadata": {},
     "output_type": "execute_result"
    }
   ],
   "source": [
    "# Vemos cuantas categorías tenemos\n",
    "categoricas['education'].unique()"
   ]
  },
  {
   "cell_type": "code",
   "execution_count": 20,
   "metadata": {},
   "outputs": [
    {
     "data": {
      "image/png": "[encoded data removed]",
      "text/plain": [
       "<Figure size 720x576 with 1 Axes>"
      ]
     },
     "metadata": {
      "needs_background": "light"
     },
     "output_type": "display_data"
    },
    {
     "data": {
      "image/png": "[encoded data removed]",
      "text/plain": [
       "<Figure size 720x576 with 1 Axes>"
      ]
     },
     "metadata": {
      "needs_background": "light"
     },
     "output_type": "display_data"
    }
   ],
   "source": [
    "# Graficamos\n",
    "for i, col in enumerate(categoricas.columns):\n",
    "    fig, axes = plt.subplots()\n",
    "    sns.boxplot( x= categoricas[col], y = df_sel['mntwines']);"
   ]
  },
  {
   "cell_type": "markdown",
   "metadata": {},
   "source": [
    ">Estamos observando:\n",
    ">* La cantidad de dinero gastado en vinos según nivel de estudios.\n",
    ">* Y la cantidad de dinero gastado en vinos segun el estado civil.\n",
    ">\n",
    ">Las medianas son bastante dispares en cambos casos, algo a tener en cuenta para nuestro proceso ANOVA."
   ]
  },
  {
   "cell_type": "markdown",
   "metadata": {},
   "source": [
    "`Calculamos de forma numérica la homocedasticidad de las columnas categóricas con el test de levene`"
   ]
  },
  {
   "cell_type": "code",
   "execution_count": 23,
   "metadata": {},
   "outputs": [],
   "source": [
    "# Tenemos que extraer los valores de nuestra columna respuesta `mntwines` que corresponden a cada categoría de cada columna categórica.\n",
    "# Empezamos por la columna 'education'\n",
    "graduation = df_sel[df_sel['education']== 'Graduation']['mntwines']\n",
    "phd = df_sel[df_sel['education']== 'PhD']['mntwines']\n",
    "master = df_sel[df_sel['education']== 'Master']['mntwines']\n",
    "basic = df_sel[df_sel['education']== 'Basic']['mntwines']\n",
    "cycle = df_sel[df_sel['education']== '2n Cycle']['mntwines']"
   ]
  },
  {
   "cell_type": "code",
   "execution_count": 24,
   "metadata": {},
   "outputs": [],
   "source": [
    "levene_test = stats.levene(graduation, phd, master, basic, cycle)"
   ]
  },
  {
   "cell_type": "code",
   "execution_count": 25,
   "metadata": {},
   "outputs": [
    {
     "data": {
      "text/plain": [
       "LeveneResult(statistic=31.644424222988334, pvalue=1.1187386514102212e-25)"
      ]
     },
     "execution_count": 25,
     "metadata": {},
     "output_type": "execute_result"
    }
   ],
   "source": [
    "levene_test"
   ]
  },
  {
   "cell_type": "markdown",
   "metadata": {},
   "source": [
    "> El p_valor es < 0.05, por lo que no podemos rechazar la hpótesis nula de que nuestra columna tiene una distribución con varianzas similares, es decir, es homocedástica"
   ]
  },
  {
   "cell_type": "code",
   "execution_count": 26,
   "metadata": {},
   "outputs": [
    {
     "data": {
      "text/plain": [
       "array(['Single', 'Together', 'Married', 'Divorced', 'Widow', 'Alone',\n",
       "       'Absurd', 'YOLO'], dtype=object)"
      ]
     },
     "execution_count": 26,
     "metadata": {},
     "output_type": "execute_result"
    }
   ],
   "source": [
    "# Vamos con la columna marital status\n",
    "df_sel['marital_status'].unique()"
   ]
  },
  {
   "cell_type": "code",
   "execution_count": 27,
   "metadata": {},
   "outputs": [
    {
     "name": "stderr",
     "output_type": "stream",
     "text": [
      "/tmp/ipykernel_1556/3569198511.py:2: SettingWithCopyWarning: \n",
      "A value is trying to be set on a copy of a slice from a DataFrame.\n",
      "Try using .loc[row_indexer,col_indexer] = value instead\n",
      "\n",
      "See the caveats in the documentation: https://pandas.pydata.org/pandas-docs/stable/user_guide/indexing.html#returning-a-view-versus-a-copy\n",
      "  df_sel['marital_status'] = df_sel['marital_status'].apply(lambda x: 'Unknown' if x == 'Absurd' or x == 'YOLO' else x)\n"
     ]
    }
   ],
   "source": [
    "# Vemos que tenemos dos categorías que no nos aportan información, así que las agruparemos en una, llamada unknown\n",
    "df_sel['marital_status'] = df_sel['marital_status'].apply(lambda x: 'Unknown' if x == 'Absurd' or x == 'YOLO' else x)"
   ]
  },
  {
   "cell_type": "code",
   "execution_count": 29,
   "metadata": {},
   "outputs": [
    {
     "data": {
      "text/plain": [
       "array(['Single', 'Together', 'Married', 'Divorced', 'Widow', 'Alone',\n",
       "       'Unknown'], dtype=object)"
      ]
     },
     "execution_count": 29,
     "metadata": {},
     "output_type": "execute_result"
    }
   ],
   "source": [
    "# Comprobamos\n",
    "df_sel['marital_status'].unique()"
   ]
  },
  {
   "cell_type": "code",
   "execution_count": 30,
   "metadata": {},
   "outputs": [],
   "source": [
    "# No tendremos en cuenta la categoría \n",
    "single = df_sel[df_sel['marital_status']== 'Single']['mntwines']\n",
    "together = df_sel[df_sel['marital_status']== 'Together']['mntwines']\n",
    "married = df_sel[df_sel['marital_status']== 'Married']['mntwines']\n",
    "divorced = df_sel[df_sel['marital_status']== 'Divorced']['mntwines']\n",
    "widow = df_sel[df_sel['marital_status']== 'Widow']['mntwines']\n",
    "alone = df_sel[df_sel['marital_status']== 'Alone']['mntwines']\n",
    "unknown = df_sel[df_sel['marital_status']== 'Unknown']['mntwines']"
   ]
  },
  {
   "cell_type": "code",
   "execution_count": 31,
   "metadata": {},
   "outputs": [
    {
     "data": {
      "text/plain": [
       "LeveneResult(statistic=0.6851690743923168, pvalue=0.6616699233542647)"
      ]
     },
     "execution_count": 31,
     "metadata": {},
     "output_type": "execute_result"
    }
   ],
   "source": [
    "levene_test2 = stats.levene(single, together, married, divorced, widow, alone, unknown)\n",
    "levene_test2"
   ]
  },
  {
   "cell_type": "markdown",
   "metadata": {},
   "source": [
    "> En este caso el p_valor es > 0.05, por lo que concluimos que nuestra columna no tiene homogeneidad de varianzas.\n",
    ">\n",
    "> Lo tendremos en cuenta de cara a los próximos pasos"
   ]
  },
  {
   "cell_type": "markdown",
   "metadata": {},
   "source": [
    "`Calculamos de forma gráfica la homocedasticidad de las columnas numéricas con el regplot`"
   ]
  },
  {
   "cell_type": "code",
   "execution_count": 32,
   "metadata": {},
   "outputs": [
    {
     "data": {
      "text/html": [
       "<div>\n",
       "<style scoped>\n",
       "    .dataframe tbody tr th:only-of-type {\n",
       "        vertical-align: middle;\n",
       "    }\n",
       "\n",
       "    .dataframe tbody tr th {\n",
       "        vertical-align: top;\n",
       "    }\n",
       "\n",
       "    .dataframe thead th {\n",
       "        text-align: right;\n",
       "    }\n",
       "</style>\n",
       "<table border=\"1\" class=\"dataframe\">\n",
       "  <thead>\n",
       "    <tr style=\"text-align: right;\">\n",
       "      <th></th>\n",
       "      <th>year_birth</th>\n",
       "      <th>income</th>\n",
       "      <th>kidhome</th>\n",
       "      <th>teenhome</th>\n",
       "      <th>mntfishproducts</th>\n",
       "      <th>mntwines</th>\n",
       "    </tr>\n",
       "  </thead>\n",
       "  <tbody>\n",
       "    <tr>\n",
       "      <th>0</th>\n",
       "      <td>1957</td>\n",
       "      <td>58138.00</td>\n",
       "      <td>0</td>\n",
       "      <td>0</td>\n",
       "      <td>172</td>\n",
       "      <td>635</td>\n",
       "    </tr>\n",
       "    <tr>\n",
       "      <th>1</th>\n",
       "      <td>1954</td>\n",
       "      <td>46344.00</td>\n",
       "      <td>1</td>\n",
       "      <td>1</td>\n",
       "      <td>2</td>\n",
       "      <td>11</td>\n",
       "    </tr>\n",
       "  </tbody>\n",
       "</table>\n",
       "</div>"
      ],
      "text/plain": [
       "   year_birth   income  kidhome  teenhome  mntfishproducts  mntwines\n",
       "0        1957 58138.00        0         0              172       635\n",
       "1        1954 46344.00        1         1                2        11"
      ]
     },
     "execution_count": 32,
     "metadata": {},
     "output_type": "execute_result"
    }
   ],
   "source": [
    "# Clasificamos\n",
    "numericas = df_sel.select_dtypes(np.number)\n",
    "numericas.head(2)"
   ]
  },
  {
   "cell_type": "code",
   "execution_count": null,
   "metadata": {},
   "outputs": [],
   "source": []
  }
 ],
 "metadata": {
  "kernelspec": {
   "display_name": "Python 3.9.7 ('base')",
   "language": "python",
   "name": "python3"
  },
  "language_info": {
   "codemirror_mode": {
    "name": "ipython",
    "version": 3
   },
   "file_extension": ".py",
   "mimetype": "text/x-python",
   "name": "python",
   "nbconvert_exporter": "python",
   "pygments_lexer": "ipython3",
   "version": "3.9.7"
  },
  "orig_nbformat": 4,
  "vscode": {
   "interpreter": {
    "hash": "6be5d780ee9b0e6fe20ff9090f4981b24f52f07297829e94136e87c5137905e3"
   }
  }
 },
 "nbformat": 4,
 "nbformat_minor": 2
}
